{
 "cells": [
  {
   "cell_type": "code",
   "execution_count": 1,
   "metadata": {},
   "outputs": [],
   "source": [
    "%load_ext autoreload\n",
    "%autoreload 2"
   ]
  },
  {
   "cell_type": "code",
   "execution_count": 2,
   "metadata": {},
   "outputs": [],
   "source": [
    "from human_ai_robustness.agent import ToMModel, GreedyHumanModel_pk"
   ]
  },
  {
   "cell_type": "code",
   "execution_count": 3,
   "metadata": {},
   "outputs": [],
   "source": [
    "import numpy as np\n",
    "from human_aware_rl.ppo.ppo_pop import make_tom_agent, get_eval_bc_agents\n",
    "from overcooked_ai_py.agents.benchmarking import AgentEvaluator\n",
    "from overcooked_ai_py.agents.agent import AgentPair, GreedyHumanModel\n",
    "from human_ai_robustness.import_person_params import import_manual_tom_params\n",
    "\n",
    "layout = \"cramped_room\"\n",
    "ae = AgentEvaluator(mdp_params={\"layout_name\": layout, \"start_order_list\": [\"any\"] * 100}, env_params={\"horizon\": 400})"
   ]
  },
  {
   "cell_type": "code",
   "execution_count": 4,
   "metadata": {},
   "outputs": [],
   "source": [
    "# _, TRAIN_TOM_PARAMS, _ = import_manual_tom_params(layout, 1)"
   ]
  },
  {
   "cell_type": "code",
   "execution_count": 5,
   "metadata": {
    "scrolled": true
   },
   "outputs": [],
   "source": [
    "\n",
    "# tom_pop = []\n",
    "# for this_tom_params in TRAIN_TOM_PARAMS + TRAIN_TOM_PARAMS:\n",
    "#     tom_agent = make_tom_agent(ae.mlp)\n",
    "#     tom_agent.set_tom_params(None, None, [this_tom_params], tom_params_choice=0)\n",
    "#     tom_pop.append(tom_agent)\n",
    "    \n",
    "# tom0 = tom_pop[0]\n",
    "# tom1 = tom_pop[1]\n",
    "# _ = ae.evaluate_agent_pair(AgentPair(tom0, tom1), num_games=10, display=False)"
   ]
  },
  {
   "cell_type": "code",
   "execution_count": 6,
   "metadata": {},
   "outputs": [],
   "source": [
    "# tom_agent = make_tom_agent(ae.mlp)"
   ]
  },
  {
   "cell_type": "code",
   "execution_count": 7,
   "metadata": {},
   "outputs": [],
   "source": [
    "# variances_dict = {\n",
    "    \n",
    "# }\n",
    "# tom_agent.__dict__"
   ]
  },
  {
   "cell_type": "code",
   "execution_count": null,
   "metadata": {},
   "outputs": [],
   "source": []
  },
  {
   "cell_type": "code",
   "execution_count": 8,
   "metadata": {},
   "outputs": [],
   "source": [
    "# std, low, high, integer\n",
    "no_mutation_params = {\n",
    "    \"compliance\": (0, 0, 1, False),\n",
    "    \"retain_goals\": (0, 0, 1, False),\n",
    "    \"prob_thinking_not_moving\": (0, 0, 1, False),\n",
    "    \"path_teamwork\": (0, 0, 1, False),\n",
    "    \"rationality_coefficient\": (0, 0, 1000, False),\n",
    "    \"prob_pausing\": (0, 0, 1, False),\n",
    "    \"prob_greedy\": (0, 0, 1, False),\n",
    "    \"prob_obs_other\": (0, 0, 1, False),\n",
    "    \"look_ahead_steps\": (0, 0, 10, True)\n",
    "}"
   ]
  },
  {
   "cell_type": "code",
   "execution_count": 9,
   "metadata": {},
   "outputs": [],
   "source": [
    "TOM_OPT_PARAMS_BY_LAYOUT = {\n",
    "    \"coordination_ring\": { \n",
    "        \"compliance\":0.2,\n",
    "        \"teamwork\":1,\n",
    "        \"retain_goals\":0.8,\n",
    "        \"path_teamwork\":1,\n",
    "        \"rationality_coefficient\":20,\n",
    "        \"prob_greedy\": 0.3,\n",
    "        \"prob_obs_other\": 1,\n",
    "        \"look_ahead_steps\":4,\n",
    "        \"prob_thinking_not_moving\":0, \"prob_pausing\":0, \"use_OLD_ml_action\":True, \"wrong_decisions\":0,\n",
    "    },\n",
    "    \"counter_circuit\": { \n",
    "        \"compliance\":0.1,\n",
    "        \"teamwork\":1,\n",
    "        \"retain_goals\":0.9,\n",
    "        \"path_teamwork\":1,\n",
    "        \"rationality_coefficient\":20,\n",
    "        \"prob_greedy\": 0.3,\n",
    "        \"prob_obs_other\": 1,\n",
    "        \"look_ahead_steps\":4,\n",
    "        \"prob_thinking_not_moving\":0, \"prob_pausing\":0, \"use_OLD_ml_action\":True, \"wrong_decisions\":0,\n",
    "    }   \n",
    "}\n"
   ]
  },
  {
   "cell_type": "code",
   "execution_count": null,
   "metadata": {},
   "outputs": [],
   "source": []
  },
  {
   "cell_type": "code",
   "execution_count": 10,
   "metadata": {},
   "outputs": [],
   "source": [
    "import time\n",
    "def get_opt_tom(ae, layout):\n",
    "    return ToMModel(ae.mlp, **TOM_OPT_PARAMS_BY_LAYOUT[layout])\n",
    "\n",
    "def tom_eval_suite(ae, tom0, tom1, opt, n, bc_and_opt=True):\n",
    "    ghm = GreedyHumanModel_pk(ae.mlp)\n",
    "    \n",
    "    rews = {}\n",
    "    \n",
    "    print(\"TOM+TOM\")\n",
    "    time.sleep(0.2)\n",
    "    avg_rew = np.mean(ae.evaluate_agent_pair(AgentPair(tom0, tom1), num_games=n, display=False)['ep_returns'])\n",
    "    rews[\"TOM+TOM\"] = avg_rew\n",
    "    tom = tom0\n",
    "    \n",
    "    print(\"GMH+TOM\")\n",
    "    time.sleep(0.2)\n",
    "    avg_rew = np.mean(ae.evaluate_agent_pair(AgentPair(ghm, tom), num_games=n, display=False)['ep_returns'])\n",
    "    rews[\"GMH+TOM\"] = avg_rew\n",
    "    print(\"TOM+GHM\")\n",
    "    time.sleep(0.2)\n",
    "    avg_rew = np.mean(ae.evaluate_agent_pair(AgentPair(tom, ghm), num_games=n, display=False)['ep_returns'])\n",
    "    rews[\"TOM+GHM\"] = avg_rew\n",
    "    \n",
    "    if bc_and_opt:\n",
    "        print(\"OPT+TOM\")\n",
    "        time.sleep(0.2)\n",
    "        avg_rew = np.mean(ae.evaluate_agent_pair(AgentPair(opt, tom), num_games=n, display=False)['ep_returns'])\n",
    "        rews[\"OPT+TOM\"] = avg_rew\n",
    "        print(\"TOM+OPT\")\n",
    "        time.sleep(0.2)\n",
    "        avg_rew = np.mean(ae.evaluate_agent_pair(AgentPair(tom, opt), num_games=n, display=False)['ep_returns'])\n",
    "        rews[\"TOM+OPT\"] = avg_rew\n",
    "\n",
    "        bc, _ = get_eval_bc_agents({\"mdp_params\": {\"layout_name\": layout}})\n",
    "\n",
    "        print(\"BC+TOM\")\n",
    "        time.sleep(0.2)\n",
    "        avg_rew = np.mean(ae.evaluate_agent_pair(AgentPair(bc, tom), num_games=n, display=False)['ep_returns'])\n",
    "        rews[\"BC+TOM\"] = avg_rew\n",
    "        print(\"TOM+BC\")\n",
    "        time.sleep(0.2)\n",
    "        avg_rew = np.mean(ae.evaluate_agent_pair(AgentPair(tom, bc), num_games=n, display=False)['ep_returns'])\n",
    "        rews[\"TOM+BC\"] = avg_rew\n",
    "    \n",
    "    return rews"
   ]
  },
  {
   "cell_type": "code",
   "execution_count": null,
   "metadata": {},
   "outputs": [],
   "source": []
  },
  {
   "cell_type": "code",
   "execution_count": 11,
   "metadata": {},
   "outputs": [
    {
     "name": "stdout",
     "output_type": "stream",
     "text": [
      "\n",
      "\n",
      " coordination_ring \n",
      "\n",
      "{'compliance': 0.1, 'retain_goals': 0.8, 'prob_thinking_not_moving': 0.0, 'path_teamwork': 0.1, 'rationality_coefficient': 2.0, 'prob_pausing': 0.5, 'prob_greedy': 0.0, 'prob_obs_other': 0.0, 'look_ahead_steps': 4}\n",
      "Loaded MediumLevelPlanner from /Users/micah/Developer/Research/CHAI/human_ai_robustness/human_ai_coord/overcooked_ai/overcooked_ai_py/data/planners/coordination_ring_am.pkl\n",
      "TOM+TOM\n"
     ]
    },
    {
     "name": "stderr",
     "output_type": "stream",
     "text": [
      "100%|██████████| 40/40 [00:09<00:00,  4.19it/s]"
     ]
    },
    {
     "name": "stdout",
     "output_type": "stream",
     "text": [
      "Avg reward 67.50 (std: 17.71, se: 2.80) over 40 games of avg length 400.0\n"
     ]
    },
    {
     "name": "stderr",
     "output_type": "stream",
     "text": [
      "\n"
     ]
    },
    {
     "data": {
      "image/png": "[encoded data removed]",
      "text/plain": [
       "<Figure size 216x144 with 1 Axes>"
      ]
     },
     "metadata": {
      "needs_background": "light"
     },
     "output_type": "display_data"
    },
    {
     "ename": "KeyboardInterrupt",
     "evalue": "",
     "output_type": "error",
     "traceback": [
      "\u001b[0;31m---------------------------------------------------------------------------\u001b[0m",
      "\u001b[0;31mKeyboardInterrupt\u001b[0m                         Traceback (most recent call last)",
      "\u001b[0;32m<ipython-input-11-d28b2f74b4d2>\u001b[0m in \u001b[0;36m<module>\u001b[0;34m\u001b[0m\n\u001b[1;32m     16\u001b[0m     \u001b[0mopt\u001b[0m \u001b[0;34m=\u001b[0m \u001b[0mget_opt_tom\u001b[0m\u001b[0;34m(\u001b[0m\u001b[0mae\u001b[0m\u001b[0;34m,\u001b[0m \u001b[0mlayout\u001b[0m\u001b[0;34m)\u001b[0m\u001b[0;34m\u001b[0m\u001b[0;34m\u001b[0m\u001b[0m\n\u001b[1;32m     17\u001b[0m \u001b[0;34m\u001b[0m\u001b[0m\n\u001b[0;32m---> 18\u001b[0;31m     \u001b[0mtom_eval_suite\u001b[0m\u001b[0;34m(\u001b[0m\u001b[0mae\u001b[0m\u001b[0;34m,\u001b[0m \u001b[0mtom0\u001b[0m\u001b[0;34m,\u001b[0m \u001b[0mtom1\u001b[0m\u001b[0;34m,\u001b[0m \u001b[0mopt\u001b[0m\u001b[0;34m,\u001b[0m \u001b[0mn\u001b[0m\u001b[0;34m=\u001b[0m\u001b[0;36m40\u001b[0m\u001b[0;34m)\u001b[0m\u001b[0;34m\u001b[0m\u001b[0;34m\u001b[0m\u001b[0m\n\u001b[0m\u001b[1;32m     19\u001b[0m \u001b[0;34m\u001b[0m\u001b[0m\n\u001b[1;32m     20\u001b[0m \u001b[0;31m#     ae.evaluate_agent_pair(AgentPair(tom0, tom1), num_games=40, display=False)\u001b[0m\u001b[0;34m\u001b[0m\u001b[0;34m\u001b[0m\u001b[0;34m\u001b[0m\u001b[0m\n",
      "\u001b[0;32m<ipython-input-10-974981aadc8c>\u001b[0m in \u001b[0;36mtom_eval_suite\u001b[0;34m(ae, tom0, tom1, opt, n, bc_and_opt)\u001b[0m\n\u001b[1;32m     10\u001b[0m     \u001b[0mprint\u001b[0m\u001b[0;34m(\u001b[0m\u001b[0;34m\"TOM+TOM\"\u001b[0m\u001b[0;34m)\u001b[0m\u001b[0;34m\u001b[0m\u001b[0;34m\u001b[0m\u001b[0m\n\u001b[1;32m     11\u001b[0m     \u001b[0mtime\u001b[0m\u001b[0;34m.\u001b[0m\u001b[0msleep\u001b[0m\u001b[0;34m(\u001b[0m\u001b[0;36m0.2\u001b[0m\u001b[0;34m)\u001b[0m\u001b[0;34m\u001b[0m\u001b[0;34m\u001b[0m\u001b[0m\n\u001b[0;32m---> 12\u001b[0;31m     \u001b[0mavg_rew\u001b[0m \u001b[0;34m=\u001b[0m \u001b[0mnp\u001b[0m\u001b[0;34m.\u001b[0m\u001b[0mmean\u001b[0m\u001b[0;34m(\u001b[0m\u001b[0mae\u001b[0m\u001b[0;34m.\u001b[0m\u001b[0mevaluate_agent_pair\u001b[0m\u001b[0;34m(\u001b[0m\u001b[0mAgentPair\u001b[0m\u001b[0;34m(\u001b[0m\u001b[0mtom0\u001b[0m\u001b[0;34m,\u001b[0m \u001b[0mtom1\u001b[0m\u001b[0;34m)\u001b[0m\u001b[0;34m,\u001b[0m \u001b[0mnum_games\u001b[0m\u001b[0;34m=\u001b[0m\u001b[0mn\u001b[0m\u001b[0;34m,\u001b[0m \u001b[0mdisplay\u001b[0m\u001b[0;34m=\u001b[0m\u001b[0;32mFalse\u001b[0m\u001b[0;34m)\u001b[0m\u001b[0;34m[\u001b[0m\u001b[0;34m'ep_returns'\u001b[0m\u001b[0;34m]\u001b[0m\u001b[0;34m)\u001b[0m\u001b[0;34m\u001b[0m\u001b[0;34m\u001b[0m\u001b[0m\n\u001b[0m\u001b[1;32m     13\u001b[0m     \u001b[0mrews\u001b[0m\u001b[0;34m[\u001b[0m\u001b[0;34m\"TOM+TOM\"\u001b[0m\u001b[0;34m]\u001b[0m \u001b[0;34m=\u001b[0m \u001b[0mavg_rew\u001b[0m\u001b[0;34m\u001b[0m\u001b[0;34m\u001b[0m\u001b[0m\n\u001b[1;32m     14\u001b[0m     \u001b[0mtom\u001b[0m \u001b[0;34m=\u001b[0m \u001b[0mtom0\u001b[0m\u001b[0;34m\u001b[0m\u001b[0;34m\u001b[0m\u001b[0m\n",
      "\u001b[0;32m~/Developer/Research/CHAI/human_ai_robustness/human_ai_coord/overcooked_ai/overcooked_ai_py/agents/benchmarking.py\u001b[0m in \u001b[0;36mevaluate_agent_pair\u001b[0;34m(self, agent_pair, num_games, display, info)\u001b[0m\n\u001b[1;32m     92\u001b[0m     \u001b[0;32mdef\u001b[0m \u001b[0mevaluate_agent_pair\u001b[0m\u001b[0;34m(\u001b[0m\u001b[0mself\u001b[0m\u001b[0;34m,\u001b[0m \u001b[0magent_pair\u001b[0m\u001b[0;34m,\u001b[0m \u001b[0mnum_games\u001b[0m\u001b[0;34m=\u001b[0m\u001b[0;36m1\u001b[0m\u001b[0;34m,\u001b[0m \u001b[0mdisplay\u001b[0m\u001b[0;34m=\u001b[0m\u001b[0;32mFalse\u001b[0m\u001b[0;34m,\u001b[0m \u001b[0minfo\u001b[0m\u001b[0;34m=\u001b[0m\u001b[0;32mTrue\u001b[0m\u001b[0;34m)\u001b[0m\u001b[0;34m:\u001b[0m\u001b[0;34m\u001b[0m\u001b[0;34m\u001b[0m\u001b[0m\n\u001b[1;32m     93\u001b[0m         \u001b[0mself\u001b[0m\u001b[0;34m.\u001b[0m\u001b[0menv\u001b[0m\u001b[0;34m.\u001b[0m\u001b[0mreset\u001b[0m\u001b[0;34m(\u001b[0m\u001b[0;34m)\u001b[0m\u001b[0;34m\u001b[0m\u001b[0;34m\u001b[0m\u001b[0m\n\u001b[0;32m---> 94\u001b[0;31m         \u001b[0;32mreturn\u001b[0m \u001b[0mself\u001b[0m\u001b[0;34m.\u001b[0m\u001b[0menv\u001b[0m\u001b[0;34m.\u001b[0m\u001b[0mget_rollouts\u001b[0m\u001b[0;34m(\u001b[0m\u001b[0magent_pair\u001b[0m\u001b[0;34m,\u001b[0m \u001b[0mnum_games\u001b[0m\u001b[0;34m,\u001b[0m \u001b[0mdisplay\u001b[0m\u001b[0;34m=\u001b[0m\u001b[0mdisplay\u001b[0m\u001b[0;34m,\u001b[0m \u001b[0minfo\u001b[0m\u001b[0;34m=\u001b[0m\u001b[0minfo\u001b[0m\u001b[0;34m)\u001b[0m\u001b[0;34m\u001b[0m\u001b[0;34m\u001b[0m\u001b[0m\n\u001b[0m\u001b[1;32m     95\u001b[0m \u001b[0;34m\u001b[0m\u001b[0m\n\u001b[1;32m     96\u001b[0m     \u001b[0;32mdef\u001b[0m \u001b[0mget_agent_pair_trajs\u001b[0m\u001b[0;34m(\u001b[0m\u001b[0mself\u001b[0m\u001b[0;34m,\u001b[0m \u001b[0ma0\u001b[0m\u001b[0;34m,\u001b[0m \u001b[0ma1\u001b[0m\u001b[0;34m=\u001b[0m\u001b[0;32mNone\u001b[0m\u001b[0;34m,\u001b[0m \u001b[0mnum_games\u001b[0m\u001b[0;34m=\u001b[0m\u001b[0;36m100\u001b[0m\u001b[0;34m,\u001b[0m \u001b[0mdisplay\u001b[0m\u001b[0;34m=\u001b[0m\u001b[0;32mFalse\u001b[0m\u001b[0;34m)\u001b[0m\u001b[0;34m:\u001b[0m\u001b[0;34m\u001b[0m\u001b[0;34m\u001b[0m\u001b[0m\n",
      "\u001b[0;32m~/Developer/Research/CHAI/human_ai_robustness/human_ai_coord/overcooked_ai/overcooked_ai_py/mdp/overcooked_env.py\u001b[0m in \u001b[0;36mget_rollouts\u001b[0;34m(self, agent_pair, num_games, display, final_state, agent_idx, reward_shaping, display_until, info, metadata_fn)\u001b[0m\n\u001b[1;32m    242\u001b[0m         \u001b[0;31m# TODO: should probably transfer check methods over to Env class\u001b[0m\u001b[0;34m\u001b[0m\u001b[0;34m\u001b[0m\u001b[0;34m\u001b[0m\u001b[0m\n\u001b[1;32m    243\u001b[0m         \u001b[0;32mfrom\u001b[0m \u001b[0movercooked_ai_py\u001b[0m\u001b[0;34m.\u001b[0m\u001b[0magents\u001b[0m\u001b[0;34m.\u001b[0m\u001b[0mbenchmarking\u001b[0m \u001b[0;32mimport\u001b[0m \u001b[0mAgentEvaluator\u001b[0m\u001b[0;34m\u001b[0m\u001b[0;34m\u001b[0m\u001b[0m\n\u001b[0;32m--> 244\u001b[0;31m         \u001b[0mAgentEvaluator\u001b[0m\u001b[0;34m.\u001b[0m\u001b[0mcheck_trajectories\u001b[0m\u001b[0;34m(\u001b[0m\u001b[0mtrajectories\u001b[0m\u001b[0;34m)\u001b[0m\u001b[0;34m\u001b[0m\u001b[0;34m\u001b[0m\u001b[0m\n\u001b[0m\u001b[1;32m    245\u001b[0m         \u001b[0;32mreturn\u001b[0m \u001b[0mtrajectories\u001b[0m\u001b[0;34m\u001b[0m\u001b[0;34m\u001b[0m\u001b[0m\n\u001b[1;32m    246\u001b[0m \u001b[0;34m\u001b[0m\u001b[0m\n",
      "\u001b[0;32m~/Developer/Research/CHAI/human_ai_robustness/human_ai_coord/overcooked_ai/overcooked_ai_py/agents/benchmarking.py\u001b[0m in \u001b[0;36mcheck_trajectories\u001b[0;34m(trajectories)\u001b[0m\n\u001b[1;32m    111\u001b[0m         \u001b[0mAgentEvaluator\u001b[0m\u001b[0;34m.\u001b[0m\u001b[0m_check_standard_traj_keys\u001b[0m\u001b[0;34m(\u001b[0m\u001b[0mset\u001b[0m\u001b[0;34m(\u001b[0m\u001b[0mtrajectories\u001b[0m\u001b[0;34m.\u001b[0m\u001b[0mkeys\u001b[0m\u001b[0;34m(\u001b[0m\u001b[0;34m)\u001b[0m\u001b[0;34m)\u001b[0m\u001b[0;34m)\u001b[0m\u001b[0;34m\u001b[0m\u001b[0;34m\u001b[0m\u001b[0m\n\u001b[1;32m    112\u001b[0m         \u001b[0mAgentEvaluator\u001b[0m\u001b[0;34m.\u001b[0m\u001b[0m_check_right_types\u001b[0m\u001b[0;34m(\u001b[0m\u001b[0mtrajectories\u001b[0m\u001b[0;34m)\u001b[0m\u001b[0;34m\u001b[0m\u001b[0;34m\u001b[0m\u001b[0m\n\u001b[0;32m--> 113\u001b[0;31m         \u001b[0mAgentEvaluator\u001b[0m\u001b[0;34m.\u001b[0m\u001b[0m_check_trajectories_dynamics\u001b[0m\u001b[0;34m(\u001b[0m\u001b[0mtrajectories\u001b[0m\u001b[0;34m)\u001b[0m\u001b[0;34m\u001b[0m\u001b[0;34m\u001b[0m\u001b[0m\n\u001b[0m\u001b[1;32m    114\u001b[0m         \u001b[0;31m# TODO: Check shapes?\u001b[0m\u001b[0;34m\u001b[0m\u001b[0;34m\u001b[0m\u001b[0;34m\u001b[0m\u001b[0m\n\u001b[1;32m    115\u001b[0m \u001b[0;34m\u001b[0m\u001b[0m\n",
      "\u001b[0;32m~/Developer/Research/CHAI/human_ai_robustness/human_ai_coord/overcooked_ai/overcooked_ai_py/agents/benchmarking.py\u001b[0m in \u001b[0;36m_check_trajectories_dynamics\u001b[0;34m(trajectories)\u001b[0m\n\u001b[1;32m    148\u001b[0m                 \u001b[0msimulation_env\u001b[0m\u001b[0;34m.\u001b[0m\u001b[0mstate\u001b[0m \u001b[0;34m=\u001b[0m \u001b[0mcurr_state\u001b[0m\u001b[0;34m\u001b[0m\u001b[0;34m\u001b[0m\u001b[0m\n\u001b[1;32m    149\u001b[0m \u001b[0;34m\u001b[0m\u001b[0m\n\u001b[0;32m--> 150\u001b[0;31m                 \u001b[0mnext_state\u001b[0m\u001b[0;34m,\u001b[0m \u001b[0mreward\u001b[0m\u001b[0;34m,\u001b[0m \u001b[0mdone\u001b[0m\u001b[0;34m,\u001b[0m \u001b[0minfo\u001b[0m \u001b[0;34m=\u001b[0m \u001b[0msimulation_env\u001b[0m\u001b[0;34m.\u001b[0m\u001b[0mstep\u001b[0m\u001b[0;34m(\u001b[0m\u001b[0mactions\u001b[0m\u001b[0;34m[\u001b[0m\u001b[0mi\u001b[0m\u001b[0;34m]\u001b[0m\u001b[0;34m)\u001b[0m\u001b[0;34m\u001b[0m\u001b[0;34m\u001b[0m\u001b[0m\n\u001b[0m\u001b[1;32m    151\u001b[0m \u001b[0;34m\u001b[0m\u001b[0m\n\u001b[1;32m    152\u001b[0m                 assert states[i + 1] == next_state, \"States differed (expected vs actual): {}\".format(\n",
      "\u001b[0;32m~/Developer/Research/CHAI/human_ai_robustness/human_ai_coord/overcooked_ai/overcooked_ai_py/mdp/overcooked_env.py\u001b[0m in \u001b[0;36mstep\u001b[0;34m(self, joint_action)\u001b[0m\n\u001b[1;32m     87\u001b[0m         \"\"\"\n\u001b[1;32m     88\u001b[0m         \u001b[0;32massert\u001b[0m \u001b[0;32mnot\u001b[0m \u001b[0mself\u001b[0m\u001b[0;34m.\u001b[0m\u001b[0mis_done\u001b[0m\u001b[0;34m(\u001b[0m\u001b[0;34m)\u001b[0m\u001b[0;34m\u001b[0m\u001b[0;34m\u001b[0m\u001b[0m\n\u001b[0;32m---> 89\u001b[0;31m         \u001b[0mnext_state\u001b[0m\u001b[0;34m,\u001b[0m \u001b[0msparse_reward\u001b[0m\u001b[0;34m,\u001b[0m \u001b[0mreward_shaping\u001b[0m \u001b[0;34m=\u001b[0m \u001b[0mself\u001b[0m\u001b[0;34m.\u001b[0m\u001b[0mmdp\u001b[0m\u001b[0;34m.\u001b[0m\u001b[0mget_state_transition\u001b[0m\u001b[0;34m(\u001b[0m\u001b[0mself\u001b[0m\u001b[0;34m.\u001b[0m\u001b[0mstate\u001b[0m\u001b[0;34m,\u001b[0m \u001b[0mjoint_action\u001b[0m\u001b[0;34m)\u001b[0m\u001b[0;34m\u001b[0m\u001b[0;34m\u001b[0m\u001b[0m\n\u001b[0m\u001b[1;32m     90\u001b[0m         \u001b[0mself\u001b[0m\u001b[0;34m.\u001b[0m\u001b[0mcumulative_sparse_rewards\u001b[0m \u001b[0;34m+=\u001b[0m \u001b[0msparse_reward\u001b[0m\u001b[0;34m\u001b[0m\u001b[0;34m\u001b[0m\u001b[0m\n\u001b[1;32m     91\u001b[0m         \u001b[0mself\u001b[0m\u001b[0;34m.\u001b[0m\u001b[0mcumulative_shaped_rewards\u001b[0m \u001b[0;34m+=\u001b[0m \u001b[0mreward_shaping\u001b[0m\u001b[0;34m\u001b[0m\u001b[0;34m\u001b[0m\u001b[0m\n",
      "\u001b[0;31mKeyboardInterrupt\u001b[0m: "
     ]
    }
   ],
   "source": [
    "layouts = [\"coordination_ring\", \"counter_circuit\"]\n",
    "for layout in layouts:\n",
    "    print(\"\\n\\n\", layout, \"\\n\")\n",
    "    time.sleep(0.2)\n",
    "    ae = AgentEvaluator(mdp_params={\"layout_name\": layout, \"start_order_list\": [\"any\"] * 100}, env_params={\"horizon\": 400})\n",
    "    _, TRAIN_TOM_PARAMS, _ = import_manual_tom_params(layout, 1)\n",
    "    base_tom_model_for_layout_params = TRAIN_TOM_PARAMS[0]\n",
    "    base_tom_model_for_layout_params = ToMModel.mutate_tom_params(\n",
    "        base_tom_model_for_layout_params,\n",
    "        no_mutation_params\n",
    "    )\n",
    "    \n",
    "    print(base_tom_model_for_layout_params)\n",
    "    tom0 = ToMModel.from_tom_params(ae.mlp, base_tom_model_for_layout_params)\n",
    "    tom1 = ToMModel.from_tom_params(ae.mlp, base_tom_model_for_layout_params)\n",
    "    opt = get_opt_tom(ae, layout)\n",
    "    \n",
    "    tom_eval_suite(ae, tom0, tom1, opt, n=40)\n",
    "    \n",
    "#     ae.evaluate_agent_pair(AgentPair(tom0, tom1), num_games=40, display=False)"
   ]
  },
  {
   "cell_type": "code",
   "execution_count": 19,
   "metadata": {},
   "outputs": [],
   "source": [
    "manual_tom_parameterization = {\n",
    "    # hyperparam tuning history\n",
    "    \n",
    "    # {'TOM+TOM': 68.5, 'GMH+TOM': 50.5, 'TOM+GHM': 53.0, 'OPT+TOM': 103.5, 'TOM+OPT': 106.0} 0.1 compliance\n",
    "    # {'TOM+TOM': 69.0, 'GMH+TOM': 67.0, 'TOM+GHM': 54.5, 'OPT+TOM': 90.0, 'TOM+OPT': 111.0} 0.1 -> 0.3 compliance\n",
    "    # {'TOM+TOM': 70.5, 'GMH+TOM': 70.0, 'TOM+GHM': 65.0, 'OPT+TOM': 93.5, 'TOM+OPT': 127.0} 0.3->0.6 compliance\n",
    "    # {'TOM+TOM': 67.0, 'GMH+TOM': 69.0, 'TOM+GHM': 74.0, 'OPT+TOM': 104.0, 'TOM+OPT': 118.0} 2 -> 1.5 rat X\n",
    "    # {'TOM+TOM': 66.5, 'GMH+TOM': 75.0, 'TOM+GHM': 67.5, 'OPT+TOM': 87.5, 'TOM+OPT': 126.0} 0.0 -> 0.3 prob obs other X\n",
    "    # {'TOM+TOM': 83.0, 'GMH+TOM': 78.5, 'TOM+GHM': 60.0, 'OPT+TOM': 105.0, 'TOM+OPT': 126.0} path_teamwork 0.1 -> 0.8\n",
    "    # ret goals 8->9 obs_other 0->3 X\n",
    "    # obs_other 0->8 X\n",
    "    # path teamwork 0.8->1 X\n",
    "    # compliance 0.6 -> 0.8 X\n",
    "    # {'TOM+TOM': 77.4, 'GMH+TOM': 82.0, 'TOM+GHM': 64.8, 'OPT+TOM': 98.8, 'TOM+OPT': 132.2}\n",
    "    # compliance 0.6 -> 0.8 \n",
    "    # {'TOM+TOM': 80.4, 'GMH+TOM': 84.0, 'TOM+GHM': 65.6, 'OPT+TOM': 99.2, 'TOM+OPT': 124.4}\n",
    "    # obs_other 0->8 X\n",
    "    # {'TOM+TOM': 79.6, 'GMH+TOM': 77.6, 'TOM+GHM': 70.8, 'OPT+TOM': 105.4, 'TOM+OPT': 131.4, 'BC+TOM': 83.4, 'TOM+BC': 70.8}\n",
    "    \n",
    "    \"coordination_ring\": {\n",
    "        'compliance': 0.8, \n",
    "        'retain_goals': 0.8, \n",
    "        'prob_thinking_not_moving': 0.0, \n",
    "        'path_teamwork': 0.8, \n",
    "        'rationality_coefficient': 2, #\n",
    "        'prob_pausing': 0.5, \n",
    "        'prob_greedy': 0.0, \n",
    "        'prob_obs_other': 0.0,#.8, \n",
    "        'look_ahead_steps': 4\n",
    "    },\n",
    "    \n",
    "    # copied from above as starting point\n",
    "    # {'TOM+TOM': 53.0, 'GMH+TOM': 71.4, 'TOM+GHM': 79.4, 'OPT+TOM': 103.8, 'TOM+OPT': 94.2, 'BC+TOM': 42.6, 'TOM+BC': 42.4}\n",
    "    # compliance 0.8 -> 0.3 X\n",
    "    # retain_goals 0.8 -> 0.9 X\n",
    "    # look ahead 4 -> 2\n",
    "    \"counter_circuit\": {\n",
    "        'compliance': 0.8, \n",
    "        'retain_goals': 0.8, \n",
    "        'prob_thinking_not_moving': 0.0, \n",
    "        'path_teamwork': 0.8, \n",
    "        'rationality_coefficient': 2.0, \n",
    "        'prob_pausing': 0.5, \n",
    "        'prob_greedy': 0.0, \n",
    "        'prob_obs_other': 0.0, \n",
    "        'look_ahead_steps': 2\n",
    "    }\n",
    "}"
   ]
  },
  {
   "cell_type": "code",
   "execution_count": null,
   "metadata": {},
   "outputs": [],
   "source": []
  },
  {
   "cell_type": "code",
   "execution_count": 20,
   "metadata": {
    "scrolled": false
   },
   "outputs": [
    {
     "name": "stdout",
     "output_type": "stream",
     "text": [
      "\n",
      "\n",
      " counter_circuit \n",
      "\n",
      "Loaded MediumLevelPlanner from /Users/micah/Developer/Research/CHAI/human_ai_robustness/human_ai_coord/overcooked_ai/overcooked_ai_py/data/planners/counter_circuit_am.pkl\n",
      "TOM+TOM\n"
     ]
    },
    {
     "name": "stderr",
     "output_type": "stream",
     "text": [
      "100%|██████████| 100/100 [00:31<00:00,  3.20it/s]"
     ]
    },
    {
     "name": "stdout",
     "output_type": "stream",
     "text": [
      "Avg reward 51.60 (std: 25.48, se: 2.55) over 100 games of avg length 400.0\n"
     ]
    },
    {
     "name": "stderr",
     "output_type": "stream",
     "text": [
      "\n"
     ]
    },
    {
     "data": {
      "image/png": "[encoded data removed]",
      "text/plain": [
       "<Figure size 216x144 with 1 Axes>"
      ]
     },
     "metadata": {
      "needs_background": "light"
     },
     "output_type": "display_data"
    },
    {
     "name": "stderr",
     "output_type": "stream",
     "text": [
      "\r",
      "  0%|          | 0/100 [00:00<?, ?it/s]"
     ]
    },
    {
     "name": "stdout",
     "output_type": "stream",
     "text": [
      "GMH+TOM\n"
     ]
    },
    {
     "name": "stderr",
     "output_type": "stream",
     "text": [
      "100%|██████████| 100/100 [00:19<00:00,  5.14it/s]"
     ]
    },
    {
     "name": "stdout",
     "output_type": "stream",
     "text": [
      "Avg reward 78.40 (std: 14.05, se: 1.41) over 100 games of avg length 400.0\n"
     ]
    },
    {
     "name": "stderr",
     "output_type": "stream",
     "text": [
      "\n"
     ]
    },
    {
     "data": {
      "image/png": "[encoded data removed]",
      "text/plain": [
       "<Figure size 216x144 with 1 Axes>"
      ]
     },
     "metadata": {
      "needs_background": "light"
     },
     "output_type": "display_data"
    },
    {
     "name": "stdout",
     "output_type": "stream",
     "text": [
      "TOM+GHM\n"
     ]
    },
    {
     "name": "stderr",
     "output_type": "stream",
     "text": [
      "100%|██████████| 100/100 [00:18<00:00,  5.40it/s]\n"
     ]
    },
    {
     "name": "stdout",
     "output_type": "stream",
     "text": [
      "Avg reward 79.80 (std: 12.16, se: 1.22) over 100 games of avg length 400.0\n"
     ]
    },
    {
     "data": {
      "image/png": "[encoded data removed]",
      "text/plain": [
       "<Figure size 216x144 with 1 Axes>"
      ]
     },
     "metadata": {
      "needs_background": "light"
     },
     "output_type": "display_data"
    },
    {
     "name": "stdout",
     "output_type": "stream",
     "text": [
      "OPT+TOM\n"
     ]
    },
    {
     "name": "stderr",
     "output_type": "stream",
     "text": [
      "100%|██████████| 100/100 [00:37<00:00,  2.68it/s]"
     ]
    },
    {
     "name": "stdout",
     "output_type": "stream",
     "text": [
      "Avg reward 102.00 (std: 31.94, se: 3.19) over 100 games of avg length 400.0\n"
     ]
    },
    {
     "name": "stderr",
     "output_type": "stream",
     "text": [
      "\n"
     ]
    },
    {
     "data": {
      "image/png": "[encoded data removed]",
      "text/plain": [
       "<Figure size 216x144 with 1 Axes>"
      ]
     },
     "metadata": {
      "needs_background": "light"
     },
     "output_type": "display_data"
    },
    {
     "name": "stdout",
     "output_type": "stream",
     "text": [
      "TOM+OPT\n"
     ]
    },
    {
     "name": "stderr",
     "output_type": "stream",
     "text": [
      "100%|██████████| 100/100 [00:37<00:00,  2.65it/s]"
     ]
    },
    {
     "name": "stdout",
     "output_type": "stream",
     "text": [
      "Avg reward 89.40 (std: 37.89, se: 3.79) over 100 games of avg length 400.0\n"
     ]
    },
    {
     "name": "stderr",
     "output_type": "stream",
     "text": [
      "\n"
     ]
    },
    {
     "data": {
      "image/png": "[encoded data removed]",
      "text/plain": [
       "<Figure size 216x144 with 1 Axes>"
      ]
     },
     "metadata": {
      "needs_background": "light"
     },
     "output_type": "display_data"
    },
    {
     "name": "stdout",
     "output_type": "stream",
     "text": [
      "Loading a model without an environment, this model cannot be trained until it has a valid environment.\n",
      "Loading a model without an environment, this model cannot be trained until it has a valid environment.\n",
      "BC+TOM\n"
     ]
    },
    {
     "name": "stderr",
     "output_type": "stream",
     "text": [
      "100%|██████████| 100/100 [00:39<00:00,  2.55it/s]\n"
     ]
    },
    {
     "name": "stdout",
     "output_type": "stream",
     "text": [
      "Avg reward 40.40 (std: 21.16, se: 2.12) over 100 games of avg length 400.0\n"
     ]
    },
    {
     "data": {
      "image/png": "[encoded data removed]",
      "text/plain": [
       "<Figure size 216x144 with 1 Axes>"
      ]
     },
     "metadata": {
      "needs_background": "light"
     },
     "output_type": "display_data"
    },
    {
     "name": "stdout",
     "output_type": "stream",
     "text": [
      "TOM+BC\n"
     ]
    },
    {
     "name": "stderr",
     "output_type": "stream",
     "text": [
      "100%|██████████| 100/100 [00:39<00:00,  2.55it/s]"
     ]
    },
    {
     "name": "stdout",
     "output_type": "stream",
     "text": [
      "Avg reward 47.60 (std: 18.28, se: 1.83) over 100 games of avg length 400.0\n"
     ]
    },
    {
     "name": "stderr",
     "output_type": "stream",
     "text": [
      "\n"
     ]
    },
    {
     "data": {
      "image/png": "[encoded data removed]",
      "text/plain": [
       "<Figure size 216x144 with 1 Axes>"
      ]
     },
     "metadata": {
      "needs_background": "light"
     },
     "output_type": "display_data"
    },
    {
     "name": "stdout",
     "output_type": "stream",
     "text": [
      "{'TOM+TOM': 51.6, 'GMH+TOM': 78.4, 'TOM+GHM': 79.8, 'OPT+TOM': 102.0, 'TOM+OPT': 89.4, 'BC+TOM': 40.4, 'TOM+BC': 47.6}\n"
     ]
    }
   ],
   "source": [
    "layouts = [\"counter_circuit\"]#, \"counter_circuit\"]\n",
    "for layout in layouts:\n",
    "    print(\"\\n\\n\", layout, \"\\n\")\n",
    "    time.sleep(0.2)\n",
    "    ae = AgentEvaluator(mdp_params={\"layout_name\": layout, \"start_order_list\": [\"any\"] * 100}, env_params={\"horizon\": 400})\n",
    "    tom0 = ToMModel.from_tom_params(ae.mlp, manual_tom_parameterization[layout])\n",
    "    tom1 = ToMModel.from_tom_params(ae.mlp, manual_tom_parameterization[layout])\n",
    "    opt = get_opt_tom(ae, layout)\n",
    "    \n",
    "    print(tom_eval_suite(ae, tom0, tom1, opt, n=100))\n",
    "#     ae.evaluate_agent_pair(AgentPair(tom0, tom1), num_games=40, display=False)"
   ]
  },
  {
   "cell_type": "code",
   "execution_count": null,
   "metadata": {},
   "outputs": [],
   "source": []
  },
  {
   "cell_type": "code",
   "execution_count": null,
   "metadata": {},
   "outputs": [],
   "source": []
  }
 ],
 "metadata": {
  "kernelspec": {
   "display_name": "Python 3",
   "language": "python",
   "name": "python3"
  },
  "language_info": {
   "codemirror_mode": {
    "name": "ipython",
    "version": 3
   },
   "file_extension": ".py",
   "mimetype": "text/x-python",
   "name": "python",
   "nbconvert_exporter": "python",
   "pygments_lexer": "ipython3",
   "version": "3.7.7"
  }
 },
 "nbformat": 4,
 "nbformat_minor": 4
}
